{
 "cells": [
  {
   "cell_type": "markdown",
   "id": "646e4460",
   "metadata": {},
   "source": [
    "**1 Project Scope**"
   ]
  },
  {
   "cell_type": "markdown",
   "id": "0dd05b42",
   "metadata": {},
   "source": [
    "In this project convolutional neural networks were used to predict wheter a patient has no illness, COVID or pneumonia based on their x-ray lung scan. The hyperparameters of the model were then tuned to see how the accuracy of the model could be improved"
   ]
  },
  {
   "cell_type": "markdown",
   "id": "f4719f7c",
   "metadata": {},
   "source": [
    "    Steps:\n",
    "    1) Import packages\n",
    "    2) Load in data\n",
    "    3) Build architecture of neural network\n",
    "    4) Train neural network\n",
    "    5) Visualise metrics of the model during training\n",
    "    6) Tune hyperparameters of model\n",
    "    7) Classification report\n",
    "    8) Confusion matrix\n",
    "    9) Conclusions\n",
    "    10) Further work"
   ]
  },
  {
   "cell_type": "markdown",
   "id": "21744251",
   "metadata": {},
   "source": [
    "**2 Import packages**"
   ]
  },
  {
   "cell_type": "code",
   "execution_count": 214,
   "id": "fa2956e5",
   "metadata": {},
   "outputs": [],
   "source": [
    "import tensorflow as tf\n",
    "from tensorflow import keras\n",
    "from tensorflow.keras.models import Sequential\n",
    "from tensorflow.keras.preprocessing.image import ImageDataGenerator\n",
    "\n",
    "from sklearn.metrics import classification_report\n",
    "from sklearn.metrics import confusion_matrix\n",
    "\n",
    "from tensorflow.keras.callbacks import EarlyStopping, History\n",
    "from tensorflow.keras import layers\n",
    "\n",
    "\n",
    "from tensorflow.keras.layers import Dense\n",
    "\n",
    "import matplotlib.pyplot as plt\n",
    "import numpy as np\n",
    "import pandas as pd\n",
    "import seaborn as sns"
   ]
  },
  {
   "cell_type": "markdown",
   "id": "f91069fe",
   "metadata": {},
   "source": [
    "**3 Load in data**"
   ]
  },
  {
   "cell_type": "markdown",
   "id": "d5c2f735",
   "metadata": {},
   "source": [
    "ImageDataGenerator object to preprocess images (including some data augmentation to generate more data as the dataset is quite small)"
   ]
  },
  {
   "cell_type": "code",
   "execution_count": 215,
   "id": "243cded2",
   "metadata": {},
   "outputs": [],
   "source": [
    "data_generator = ImageDataGenerator(rescale=1.0/255, zoom_range=0.2, rotation_range=15, width_shift_range=0.05, height_shift_range=0.05) #normalise the data and perform data augmentation"
   ]
  },
  {
   "cell_type": "code",
   "execution_count": 216,
   "id": "6034c3c7",
   "metadata": {},
   "outputs": [],
   "source": [
    "batch_size = 5"
   ]
  },
  {
   "cell_type": "markdown",
   "id": "b771ed5b",
   "metadata": {},
   "source": [
    "Training iterator with training images"
   ]
  },
  {
   "cell_type": "code",
   "execution_count": 217,
   "id": "693a931b",
   "metadata": {
    "scrolled": true
   },
   "outputs": [
    {
     "name": "stdout",
     "output_type": "stream",
     "text": [
      "Found 251 images belonging to 3 classes.\n"
     ]
    }
   ],
   "source": [
    "training_iterator = data_generator.flow_from_directory('Covid19-dataset/train', class_mode='categorical', color_mode='grayscale', target_size=(256,256), batch_size=batch_size)"
   ]
  },
  {
   "cell_type": "markdown",
   "id": "ba90ca65",
   "metadata": {},
   "source": [
    "Test iterator with test images"
   ]
  },
  {
   "cell_type": "code",
   "execution_count": 218,
   "id": "9c50a479",
   "metadata": {},
   "outputs": [
    {
     "name": "stdout",
     "output_type": "stream",
     "text": [
      "Found 66 images belonging to 3 classes.\n"
     ]
    }
   ],
   "source": [
    "test_iterator = data_generator.flow_from_directory('Covid19-dataset/test', class_mode='categorical', color_mode='grayscale', target_size=(256,256), batch_size=batch_size)"
   ]
  },
  {
   "cell_type": "markdown",
   "id": "f1411d83",
   "metadata": {},
   "source": [
    "**4 Building model**"
   ]
  },
  {
   "cell_type": "markdown",
   "id": "78b3100f",
   "metadata": {},
   "source": [
    "**4.1 Building the architecture of the neural network**"
   ]
  },
  {
   "cell_type": "code",
   "execution_count": 219,
   "id": "98d8220f",
   "metadata": {},
   "outputs": [
    {
     "name": "stdout",
     "output_type": "stream",
     "text": [
      "Model: \"sequential_53\"\n",
      "_________________________________________________________________\n",
      "Layer (type)                 Output Shape              Param #   \n",
      "=================================================================\n",
      "conv2d_108 (Conv2D)          (None, 126, 126, 8)       208       \n",
      "_________________________________________________________________\n",
      "max_pooling2d_102 (MaxPoolin (None, 63, 63, 8)         0         \n",
      "_________________________________________________________________\n",
      "conv2d_109 (Conv2D)          (None, 31, 31, 8)         584       \n",
      "_________________________________________________________________\n",
      "max_pooling2d_103 (MaxPoolin (None, 15, 15, 8)         0         \n",
      "_________________________________________________________________\n",
      "flatten_38 (Flatten)         (None, 1800)              0         \n",
      "_________________________________________________________________\n",
      "dense_45 (Dense)             (None, 3)                 5403      \n",
      "=================================================================\n",
      "Total params: 6,195\n",
      "Trainable params: 6,195\n",
      "Non-trainable params: 0\n",
      "_________________________________________________________________\n"
     ]
    }
   ],
   "source": [
    "model = Sequential() # Model object\n",
    "\n",
    "model.add(layers.Input(shape=(256, 256, 1))) # Input layer -> each image is a 256x256 pixel image and it is grayscale so there is 1 channel\n",
    "\n",
    "model.add(layers.Conv2D(8, 5, padding='valid', strides=2, activation='relu')) # First convolutional layer -> five 5x5 filters, valid padding, strides of 2, relu activation function to introduce non-linearity\n",
    "\n",
    "model.add(layers.MaxPooling2D(pool_size=(2,2), strides=(2,2), padding='valid')) # Max pooling layer for the first intermediate convolutional layer -> 5x5 filter, strides of 5 and valid padding\n",
    "\n",
    "model.add(layers.Conv2D(8, 3, padding='valid', strides=2, activation='relu')) # third convolutional layer -> three 3x3 filters, valid padding, strides of 2, relu activation function to introduction non-linearity\n",
    "\n",
    "model.add(layers.MaxPooling2D(pool_size=(2,2), strides=(2,2), padding='valid')) # Max pooling layer for the third intermediate convolutional layer -> 3x3 filter, strides of 3 and valid padding\n",
    "\n",
    "model.add(layers.Flatten()) # Flatten the output from the convolutional layers before the dense layers because the dense layers apply its matrix to the output, so the input to the dense layers needs to be the correct shape\n",
    "\n",
    "model.add(Dense(3, activation='softmax')) # Output layer -> there are 3 classes so need 3 neurons and use softmax activation to base prediction of probabilities of each class\n",
    "\n",
    "model.compile(loss=keras.losses.CategoricalCrossentropy(), optimizer = 'adam', metrics=[tf.keras.metrics.CategoricalAccuracy(), tf.keras.metrics.AUC()]) # Compile the model with a optimizer -> as the categories are one-hot encoded Categorical cross entropy is used as the loss metric\n",
    "\n",
    "model.summary() # summary of model"
   ]
  },
  {
   "cell_type": "markdown",
   "id": "5e3c4aee",
   "metadata": {},
   "source": [
    "**4.2 Early stopping object** - Early stopping introduced to decrease computational requirements due to the epochs stopping when categorical accuracy plateaus "
   ]
  },
  {
   "cell_type": "code",
   "execution_count": 220,
   "id": "925c9c87",
   "metadata": {},
   "outputs": [],
   "source": [
    "es = EarlyStopping(monitor='categorical_accuracy', mode='max', verbose=1, patience=8) # to find when the categorical accuracy is at a max"
   ]
  },
  {
   "cell_type": "markdown",
   "id": "f539b22b",
   "metadata": {},
   "source": [
    "**4.3 History object for later visualisation**"
   ]
  },
  {
   "cell_type": "code",
   "execution_count": 221,
   "id": "f2883f0e",
   "metadata": {},
   "outputs": [],
   "source": [
    "history = History() # history object to put into the algorithm so that the metrics of the training can be remembered and later plotted"
   ]
  },
  {
   "cell_type": "markdown",
   "id": "45daacde",
   "metadata": {},
   "source": [
    "**5 Training the model**"
   ]
  },
  {
   "cell_type": "code",
   "execution_count": 222,
   "id": "d0f4bc82",
   "metadata": {},
   "outputs": [
    {
     "name": "stdout",
     "output_type": "stream",
     "text": [
      "Epoch 1/30\n",
      "51/50 [==============================] - 5s 90ms/step - loss: 1.0707 - categorical_accuracy: 0.4382 - auc_44: 0.6072 - val_loss: 1.0074 - val_categorical_accuracy: 0.4545 - val_auc_44: 0.7223\n",
      "Epoch 2/30\n",
      "51/50 [==============================] - 4s 82ms/step - loss: 0.8670 - categorical_accuracy: 0.5976 - auc_44: 0.7938 - val_loss: 0.8328 - val_categorical_accuracy: 0.6364 - val_auc_44: 0.8005\n",
      "Epoch 3/30\n",
      "51/50 [==============================] - 2s 43ms/step - loss: 0.5201 - categorical_accuracy: 0.7849 - auc_44: 0.9283 - val_loss: 0.7908 - val_categorical_accuracy: 0.6818 - val_auc_44: 0.8603\n",
      "Epoch 4/30\n",
      "51/50 [==============================] - 2s 49ms/step - loss: 0.4778 - categorical_accuracy: 0.8127 - auc_44: 0.9364 - val_loss: 0.7865 - val_categorical_accuracy: 0.6818 - val_auc_44: 0.8715\n",
      "Epoch 5/30\n",
      "51/50 [==============================] - 2s 47ms/step - loss: 0.4395 - categorical_accuracy: 0.8327 - auc_44: 0.9472 - val_loss: 0.6508 - val_categorical_accuracy: 0.7121 - val_auc_44: 0.8907\n",
      "Epoch 6/30\n",
      "51/50 [==============================] - 3s 49ms/step - loss: 0.3680 - categorical_accuracy: 0.8805 - auc_44: 0.9615 - val_loss: 0.4770 - val_categorical_accuracy: 0.7576 - val_auc_44: 0.9411\n",
      "Epoch 7/30\n",
      "51/50 [==============================] - 2s 47ms/step - loss: 0.3471 - categorical_accuracy: 0.8606 - auc_44: 0.9673 - val_loss: 0.5591 - val_categorical_accuracy: 0.7879 - val_auc_44: 0.9153\n",
      "Epoch 8/30\n",
      "51/50 [==============================] - 2s 37ms/step - loss: 0.3319 - categorical_accuracy: 0.9044 - auc_44: 0.9667 - val_loss: 0.3727 - val_categorical_accuracy: 0.8030 - val_auc_44: 0.9619\n",
      "Epoch 9/30\n",
      "51/50 [==============================] - 2s 41ms/step - loss: 0.3323 - categorical_accuracy: 0.8884 - auc_44: 0.9672 - val_loss: 0.3861 - val_categorical_accuracy: 0.8182 - val_auc_44: 0.9594\n",
      "Epoch 10/30\n",
      "51/50 [==============================] - 2s 43ms/step - loss: 0.3563 - categorical_accuracy: 0.8725 - auc_44: 0.9638 - val_loss: 0.4945 - val_categorical_accuracy: 0.7879 - val_auc_44: 0.9343\n",
      "Epoch 11/30\n",
      "51/50 [==============================] - 3s 58ms/step - loss: 0.3338 - categorical_accuracy: 0.8645 - auc_44: 0.9685 - val_loss: 0.4777 - val_categorical_accuracy: 0.8030 - val_auc_44: 0.9412\n",
      "Epoch 12/30\n",
      "51/50 [==============================] - 2s 46ms/step - loss: 0.2863 - categorical_accuracy: 0.8805 - auc_44: 0.9769 - val_loss: 0.4518 - val_categorical_accuracy: 0.7879 - val_auc_44: 0.9438\n",
      "Epoch 13/30\n",
      "51/50 [==============================] - 2s 45ms/step - loss: 0.2733 - categorical_accuracy: 0.8924 - auc_44: 0.9789 - val_loss: 0.5528 - val_categorical_accuracy: 0.7879 - val_auc_44: 0.9338\n",
      "Epoch 14/30\n",
      "51/50 [==============================] - 3s 54ms/step - loss: 0.3018 - categorical_accuracy: 0.8924 - auc_44: 0.9752 - val_loss: 0.4309 - val_categorical_accuracy: 0.8485 - val_auc_44: 0.9520\n",
      "Epoch 15/30\n",
      "51/50 [==============================] - 3s 52ms/step - loss: 0.2447 - categorical_accuracy: 0.9084 - auc_44: 0.9823 - val_loss: 0.6496 - val_categorical_accuracy: 0.7727 - val_auc_44: 0.9083\n",
      "Epoch 16/30\n",
      "51/50 [==============================] - 2s 43ms/step - loss: 0.3120 - categorical_accuracy: 0.8884 - auc_44: 0.9710 - val_loss: 0.4366 - val_categorical_accuracy: 0.8030 - val_auc_44: 0.9483\n",
      "Epoch 17/30\n",
      "51/50 [==============================] - 2s 46ms/step - loss: 0.2542 - categorical_accuracy: 0.9044 - auc_44: 0.9828 - val_loss: 0.4872 - val_categorical_accuracy: 0.8182 - val_auc_44: 0.9413\n",
      "Epoch 18/30\n",
      "51/50 [==============================] - 3s 65ms/step - loss: 0.2434 - categorical_accuracy: 0.9243 - auc_44: 0.9829 - val_loss: 0.4628 - val_categorical_accuracy: 0.8333 - val_auc_44: 0.9462\n",
      "Epoch 19/30\n",
      "51/50 [==============================] - 2s 38ms/step - loss: 0.2871 - categorical_accuracy: 0.8924 - auc_44: 0.9768 - val_loss: 0.5958 - val_categorical_accuracy: 0.6818 - val_auc_44: 0.9051\n",
      "Epoch 20/30\n",
      "51/50 [==============================] - 2s 47ms/step - loss: 0.3093 - categorical_accuracy: 0.8805 - auc_44: 0.9741 - val_loss: 0.4162 - val_categorical_accuracy: 0.8788 - val_auc_44: 0.9518\n",
      "Epoch 21/30\n",
      "51/50 [==============================] - 3s 52ms/step - loss: 0.2251 - categorical_accuracy: 0.9323 - auc_44: 0.9855 - val_loss: 0.4701 - val_categorical_accuracy: 0.8182 - val_auc_44: 0.9461\n",
      "Epoch 22/30\n",
      "51/50 [==============================] - 2s 47ms/step - loss: 0.2732 - categorical_accuracy: 0.9163 - auc_44: 0.9760 - val_loss: 0.5293 - val_categorical_accuracy: 0.8030 - val_auc_44: 0.9258\n",
      "Epoch 23/30\n",
      "51/50 [==============================] - 2s 45ms/step - loss: 0.2039 - categorical_accuracy: 0.9323 - auc_44: 0.9871 - val_loss: 0.5048 - val_categorical_accuracy: 0.8030 - val_auc_44: 0.9373\n",
      "Epoch 24/30\n",
      "51/50 [==============================] - 3s 50ms/step - loss: 0.2201 - categorical_accuracy: 0.9283 - auc_44: 0.9849 - val_loss: 0.5310 - val_categorical_accuracy: 0.8636 - val_auc_44: 0.9454\n",
      "Epoch 25/30\n",
      "51/50 [==============================] - 2s 39ms/step - loss: 0.2387 - categorical_accuracy: 0.9203 - auc_44: 0.9800 - val_loss: 0.5968 - val_categorical_accuracy: 0.8485 - val_auc_44: 0.9303\n",
      "Epoch 26/30\n",
      "51/50 [==============================] - 2s 47ms/step - loss: 0.2013 - categorical_accuracy: 0.9243 - auc_44: 0.9870 - val_loss: 0.6442 - val_categorical_accuracy: 0.8182 - val_auc_44: 0.9180\n",
      "Epoch 27/30\n",
      "51/50 [==============================] - 2s 43ms/step - loss: 0.2700 - categorical_accuracy: 0.9124 - auc_44: 0.9773 - val_loss: 0.4584 - val_categorical_accuracy: 0.7879 - val_auc_44: 0.9462\n",
      "Epoch 28/30\n",
      "51/50 [==============================] - 2s 48ms/step - loss: 0.2106 - categorical_accuracy: 0.9243 - auc_44: 0.9876 - val_loss: 0.5595 - val_categorical_accuracy: 0.8485 - val_auc_44: 0.9304\n",
      "Epoch 29/30\n",
      "51/50 [==============================] - 2s 47ms/step - loss: 0.1964 - categorical_accuracy: 0.9243 - auc_44: 0.9897 - val_loss: 0.4612 - val_categorical_accuracy: 0.8485 - val_auc_44: 0.9575\n",
      "Epoch 00029: early stopping\n"
     ]
    },
    {
     "data": {
      "text/plain": [
       "<tensorflow.python.keras.callbacks.History at 0x16a923f3130>"
      ]
     },
     "execution_count": 222,
     "metadata": {},
     "output_type": "execute_result"
    }
   ],
   "source": [
    "model.fit(training_iterator, \n",
    "          steps_per_epoch = training_iterator.samples/batch_size, \n",
    "          epochs=30, validation_data=test_iterator, \n",
    "          validation_steps=test_iterator.samples/batch_size, callbacks=[es, history]) # fitting data to the model -> initially using 8 epochs and steps in epochs of number of samples divided by batch size, using test data for validation\n",
    "\n",
    "# val_categorical_accuracy = validation categorical accuracy"
   ]
  },
  {
   "cell_type": "markdown",
   "id": "ffd2292b",
   "metadata": {},
   "source": [
    "**6 Visulisation of model metrics**"
   ]
  },
  {
   "cell_type": "markdown",
   "id": "e1605519",
   "metadata": {},
   "source": [
    "**6.1 Visualisation of AUC**"
   ]
  },
  {
   "cell_type": "code",
   "execution_count": 225,
   "id": "cf8b36c5",
   "metadata": {},
   "outputs": [
    {
     "data": {
      "text/plain": [
       "<matplotlib.legend.Legend at 0x16a94d3f5e0>"
      ]
     },
     "execution_count": 225,
     "metadata": {},
     "output_type": "execute_result"
    },
    {
     "data": {
      "image/png": "[encoded data removed]",
      "text/plain": [
       "<Figure size 432x288 with 1 Axes>"
      ]
     },
     "metadata": {
      "needs_background": "light"
     },
     "output_type": "display_data"
    }
   ],
   "source": [
    "ax1 = plt.subplot()\n",
    "ax1.plot(history.history['auc_44'])\n",
    "ax1.plot(history.history['val_auc_44'])\n",
    "ax1.set_title('AUC history for training and validation sets')\n",
    "ax1.set_ylabel('AUC value')\n",
    "ax1.set_xlabel('Epoch')\n",
    "ax1.legend(['training', 'validation'])"
   ]
  },
  {
   "cell_type": "markdown",
   "id": "3883fdc1",
   "metadata": {},
   "source": [
    "**6.2 Visualisation of categorical accuracy**"
   ]
  },
  {
   "cell_type": "code",
   "execution_count": 226,
   "id": "4967f5cf",
   "metadata": {},
   "outputs": [
    {
     "data": {
      "text/plain": [
       "<matplotlib.legend.Legend at 0x16a94da1af0>"
      ]
     },
     "execution_count": 226,
     "metadata": {},
     "output_type": "execute_result"
    },
    {
     "data": {
      "image/png": "[encoded data removed]",
      "text/plain": [
       "<Figure size 432x288 with 1 Axes>"
      ]
     },
     "metadata": {
      "needs_background": "light"
     },
     "output_type": "display_data"
    }
   ],
   "source": [
    "ax2 = plt.subplot()\n",
    "ax2.plot(history.history['categorical_accuracy'])\n",
    "ax2.plot(history.history['val_categorical_accuracy'])\n",
    "ax2.set_title('Categorical accuracy history for training and validation sets')\n",
    "ax2.set_ylabel('Categorical accuracy')\n",
    "ax2.set_xlabel('Epoch')\n",
    "ax2.legend(['training', 'validation'])"
   ]
  },
  {
   "cell_type": "markdown",
   "id": "1b092f74",
   "metadata": {},
   "source": [
    "**6.3 Visualisation of loss**"
   ]
  },
  {
   "cell_type": "code",
   "execution_count": 227,
   "id": "a3292404",
   "metadata": {},
   "outputs": [
    {
     "data": {
      "text/plain": [
       "<matplotlib.legend.Legend at 0x16a94e04640>"
      ]
     },
     "execution_count": 227,
     "metadata": {},
     "output_type": "execute_result"
    },
    {
     "data": {
      "image/png": "[encoded data removed]",
      "text/plain": [
       "<Figure size 432x288 with 1 Axes>"
      ]
     },
     "metadata": {
      "needs_background": "light"
     },
     "output_type": "display_data"
    }
   ],
   "source": [
    "ax3 = plt.subplot()\n",
    "ax3.plot(history.history['loss'])\n",
    "ax3.plot(history.history['val_loss'])\n",
    "ax3.set_title('Loss history for training and validation sets')\n",
    "ax3.set_ylabel('Loss')\n",
    "ax3.set_xlabel('Epoch')\n",
    "ax3.legend(['training', 'validation'])"
   ]
  },
  {
   "cell_type": "markdown",
   "id": "ed3e639f",
   "metadata": {},
   "source": [
    "These three graphs show that as the categorical accuracy began to plateau that the early stopping caused the algorithm to stop. However, it can be seen that the training and validation metrics are vastly different, implying that the algorithm may be overfitted to the training data."
   ]
  },
  {
   "cell_type": "markdown",
   "id": "604e7817",
   "metadata": {},
   "source": [
    "**7 Tuning hyperparameters**"
   ]
  },
  {
   "cell_type": "markdown",
   "id": "84d010d7",
   "metadata": {},
   "source": [
    "**7.1 Results of initial iteration**"
   ]
  },
  {
   "cell_type": "markdown",
   "id": "0102b281",
   "metadata": {},
   "source": [
    "Initial hyperparameters:\n",
    "- Epochs = 8\n",
    "- Batch size = 5 \n",
    "- Number of convolutional layers = 2 -> (first = five 5x5 filters, second = three 3x3 filters)\n",
    "- Number of trainable parameters = 415\n",
    "- Optimizer = Adam\n",
    "\n",
    "Results:\n",
    "- Accuracy = 0.7727\n",
    "- AUC = 0.9332"
   ]
  },
  {
   "cell_type": "markdown",
   "id": "982608bd",
   "metadata": {},
   "source": [
    "**7.2 Results of second iteration** - Not as good as the inital model"
   ]
  },
  {
   "cell_type": "markdown",
   "id": "a60ee810",
   "metadata": {},
   "source": [
    "Initial hyperparameters:\n",
    "- Epochs = 15\n",
    "- Batch size = 5\n",
    "- Number of convolutional layers = 2 -> (first = five 5x5 filters, second = four 4x4 filters, third = three 3x3 filters)\n",
    "- Number of trainable parameters = 517\n",
    "- Optimizer = Adam\n",
    "\n",
    "Results:\n",
    "- Accuracy = 0.6212\n",
    "- AUC = 0.8254"
   ]
  },
  {
   "cell_type": "markdown",
   "id": "e58eb4ad",
   "metadata": {},
   "source": [
    "**7.3 Results of third iteration** - The second convolutional layer was removed, accuracy increased, implying that the extra layer caused the model to overfit to the training data"
   ]
  },
  {
   "cell_type": "markdown",
   "id": "76107035",
   "metadata": {},
   "source": [
    "Initial hyperparameters:\n",
    "- Epochs = 15\n",
    "- Batch size = 5\n",
    "- Number of convolutional layers = 2 -> (first = five 5x5 filters, second = three 3x3 filters)\n",
    "- Number of trainable parameters = 415\n",
    "- Optimizer = Adam\n",
    "\n",
    "Results:\n",
    "- Loss = 0.3524\n",
    "- Accuracy = 0.8606\n",
    "- AUC = 0.9670"
   ]
  },
  {
   "cell_type": "markdown",
   "id": "9d18dc63",
   "metadata": {},
   "source": [
    "**7.4 Results of fourth iteration** - Categorical accuracy vastly improved due to the large increase in trainable parameters"
   ]
  },
  {
   "cell_type": "markdown",
   "id": "d9eb346f",
   "metadata": {},
   "source": [
    "Initial hyperparameters:\n",
    "- Epochs = 15\n",
    "- Batch size = 5\n",
    "- Number of convolutional layers = 2 -> (first = eight 5x5 filters, second = eight 3x3 filters)\n",
    "- Number of trainable parameters = 6195\n",
    "- Optimizer = Adam\n",
    "- Both max pooling layers with pool_size and strides of (2,2)\n",
    "\n",
    "Results:\n",
    "- Loss = 0.0580\n",
    "- Accuracy = 0.9761\n",
    "- AUC = 0.9993"
   ]
  },
  {
   "cell_type": "markdown",
   "id": "dc8a1254",
   "metadata": {},
   "source": [
    "**7.5 Results of fifth iteration** - Catergorical accuracy improved due to the increase in epoch, reaching 1.0000 at around 18 epochs, therefore the number of epochs could be decreased as to decrease computational requirements"
   ]
  },
  {
   "cell_type": "markdown",
   "id": "a6eb9cfa",
   "metadata": {},
   "source": [
    "Initial hyperparameters:\n",
    "- Epochs = 25\n",
    "- Batch size = 5\n",
    "- Number of convolutional layers = 2 -> (first = eight 5x5 filters, second = eight 3x3 filters)\n",
    "- Number of trainable parameters = 6195\n",
    "- Optimizer = Adam\n",
    "- Both max pooling layers with pool_size and strides of (2,2)\n",
    "\n",
    "Results:\n",
    "- Loss = 0.0023\n",
    "- Accuracy = 1.0000\n",
    "- AUC = 1.0000"
   ]
  },
  {
   "cell_type": "markdown",
   "id": "4de59114",
   "metadata": {},
   "source": [
    "**7.6 Results of sixth iteration** - Number of epochs were decreased to 20 to decrease computational requirements, while still acheiving the same results."
   ]
  },
  {
   "cell_type": "markdown",
   "id": "2c70d75d",
   "metadata": {},
   "source": [
    "Initial hyperparameters:\n",
    "- Epochs = 20\n",
    "- Batch size = 5\n",
    "- Number of convolutional layers = 2 -> (first = eight 5x5 filters, second = eight 3x3 filters)\n",
    "- Number of trainable parameters = 6195\n",
    "- Optimizer = Adam\n",
    "- Both max pooling layers with pool_size and strides of (2,2)\n",
    "\n",
    "Results:\n",
    "- Loss = 0.0023\n",
    "- Accuracy = 1.0000\n",
    "- AUC = 1.0000"
   ]
  },
  {
   "cell_type": "markdown",
   "id": "1f3ae132",
   "metadata": {},
   "source": [
    "**7.7 Results of seventh iteration - Including data augmentation** - Early stopping was introduced as to decrease computational requirements (with a patience of 4) - Accuracy decreased and loss increased, meaning that the algorithm was not as accurate in this iteration. However, this could be due to the data augmentation that was implemented, which would benefit future predictions, implying that this algorithm may be more accurate for future predictions."
   ]
  },
  {
   "cell_type": "markdown",
   "id": "8d9566fc",
   "metadata": {},
   "source": [
    "Initial hyperparameters:\n",
    "- Epochs = 30\n",
    "- Batch size = 5\n",
    "- Number of convolutional layers = 2 -> (first = eight 5x5 filters, second = eight 3x3 filters)\n",
    "- Number of trainable parameters = 6195\n",
    "- Optimizer = Adam\n",
    "- Both max pooling layers with pool_size and strides of (2,2)\n",
    "\n",
    "Results:\n",
    "- Loss = 0.1986\n",
    "- Accuracy = 0.9203\n",
    "- AUC = 0.9891"
   ]
  },
  {
   "cell_type": "markdown",
   "id": "26d8301f",
   "metadata": {},
   "source": [
    "It was decided that the seventh iteration of the model was the best model to be used for further prediction, due to the data augmentation meaning that future predictions would be more accurate that the other iterations without data augmentation and early stopping being introduced to decrease computational requirements. Furthermore, the accuracy of this algorithm was also quite good even though the data had been augmented. Therefore, this model was used for all further work in the project."
   ]
  },
  {
   "cell_type": "markdown",
   "id": "567282fb",
   "metadata": {},
   "source": [
    "**8 Evaluating neural network - classification report**"
   ]
  },
  {
   "cell_type": "code",
   "execution_count": 228,
   "id": "e6b1a846",
   "metadata": {},
   "outputs": [
    {
     "name": "stdout",
     "output_type": "stream",
     "text": [
      "              precision    recall  f1-score   support\n",
      "\n",
      "       Covid       0.35      0.35      0.35        26\n",
      "      Normal       0.28      0.25      0.26        20\n",
      "   Pneumonia       0.27      0.30      0.29        20\n",
      "\n",
      "    accuracy                           0.30        66\n",
      "   macro avg       0.30      0.30      0.30        66\n",
      "weighted avg       0.30      0.30      0.30        66\n",
      "\n"
     ]
    }
   ],
   "source": [
    "test_steps_per_epoch = np.math.ceil(test_iterator.samples/batch_size) # Finding number of steps per epoch and rounding it up\n",
    "\n",
    "predictions = model.predict(test_iterator, steps=test_steps_per_epoch) # Predicting classes for validation data\n",
    "\n",
    "predicted_classes = np.argmax(predictions, axis=1) # Finding the max values in the predictions option and assigning it the the value of the column index\n",
    "\n",
    "true_classes = test_iterator.classes # True values for each picture in validation data\n",
    "\n",
    "class_labels = list(test_iterator.class_indices.keys()) # class labels ['Covid', 'Normal', 'Pneumonia']\n",
    "\n",
    "report = classification_report(true_classes, predicted_classes, target_names=class_labels) # Classification report display precision, recall, f1-score and support for each different class predictions\n",
    "\n",
    "print(report)"
   ]
  },
  {
   "cell_type": "markdown",
   "id": "640cf86a",
   "metadata": {},
   "source": [
    "The classification report showed that the model was best at predicting COVID patients and worst for patients with no illness. However, the accuracy was not great for any class, as you would expect to get a 1/3 of classes right from random guesses."
   ]
  },
  {
   "cell_type": "markdown",
   "id": "d664f85e",
   "metadata": {},
   "source": [
    "**9 Evaluating neural network - confusion matrix**"
   ]
  },
  {
   "cell_type": "code",
   "execution_count": 229,
   "id": "0cf8b69e",
   "metadata": {},
   "outputs": [
    {
     "data": {
      "text/plain": [
       "[Text(0.5, 0, 'Covid'), Text(1.5, 0, 'Normal'), Text(2.5, 0, 'Pneumonia')]"
      ]
     },
     "execution_count": 229,
     "metadata": {},
     "output_type": "execute_result"
    },
    {
     "data": {
      "image/png": "[encoded data removed]",
      "text/plain": [
       "<Figure size 720x504 with 2 Axes>"
      ]
     },
     "metadata": {
      "needs_background": "light"
     },
     "output_type": "display_data"
    }
   ],
   "source": [
    "confusion_matrix = confusion_matrix(true_classes, predicted_classes)\n",
    "\n",
    "plt.figure(figsize=(10,7)) # Creating a figure with a size of 10x7\n",
    "\n",
    "ax4 = plt.subplot() # Creating an axis object with the subplot axes\n",
    "\n",
    "sns.heatmap(confusion_matrix, annot=True, ax=ax4, fmt='d') # Creating a heat map using the confusion matrix - 'annot=True' = annotate the heat map with class labels, 'ax=ax' = uses the created axes object, 'fmt='d'' = formatting the annotations\n",
    "\n",
    "ax4.set_xlabel('Predicted labels')\n",
    "ax4.set_ylabel('True labels')\n",
    "ax4.set_title('Confusion matrix heat map for neural network')\n",
    "\n",
    "ax4.yaxis.set_tick_params(rotation=360) # Rotating y axis labels so that they don't overlap\n",
    "\n",
    "ax4.set_yticklabels(class_labels)\n",
    "ax4.set_xticklabels(class_labels)"
   ]
  },
  {
   "cell_type": "markdown",
   "id": "69d8fc86",
   "metadata": {},
   "source": [
    "The heatmap showed that the predictions were not great, due to many of the predictions being incorrect. This shows that the model could be improved so that the predictions were more accurate, through further tuning of the model's hyperparameters."
   ]
  },
  {
   "cell_type": "markdown",
   "id": "c3fa9aa3",
   "metadata": {},
   "source": [
    "**10 Conclusion**"
   ]
  },
  {
   "cell_type": "markdown",
   "id": "3e5707ff",
   "metadata": {},
   "source": [
    "In conclusion:\n",
    "- A convolutional neural network was constructed to predict whether someone has no illness, COVID or pneumonia based on their x-ray lung scan.\n",
    "- The hyperparameters of the neural network then tuned to find the neural network with the highest accuracy. It was found that the seventh iteration of the neural network was the best model. This was because it gave good accuracy and loss as well as accounting for data augmentation to increase the accuracy of future predictions. This model was found to have an accuracy of 0.9203. \n",
    "- A classification report and confusion matrix heat map of this model were then constructed, from which is was found that the model was not very accurate and further hyperparameter tuning could be needed."
   ]
  },
  {
   "cell_type": "markdown",
   "id": "81ddbdcd",
   "metadata": {},
   "source": [
    "**11 Further work**"
   ]
  },
  {
   "cell_type": "markdown",
   "id": "7022da05",
   "metadata": {},
   "source": [
    "The project could be improved by the following:\n",
    "- Hyperparameters could be further tuned to find a more accurate model, which would lead to more accurate further predictions of whether someone has no illness, COVID or pneumonia."
   ]
  }
 ],
 "metadata": {
  "kernelspec": {
   "display_name": "Python 3",
   "language": "python",
   "name": "python3"
  },
  "language_info": {
   "codemirror_mode": {
    "name": "ipython",
    "version": 3
   },
   "file_extension": ".py",
   "mimetype": "text/x-python",
   "name": "python",
   "nbconvert_exporter": "python",
   "pygments_lexer": "ipython3",
   "version": "3.8.8"
  }
 },
 "nbformat": 4,
 "nbformat_minor": 5
}
